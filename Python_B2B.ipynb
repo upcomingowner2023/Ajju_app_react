{
  "nbformat": 4,
  "nbformat_minor": 0,
  "metadata": {
    "colab": {
      "provenance": [],
      "authorship_tag": "ABX9TyMkGjlJhHrngU7x0J8uZiaB",
      "include_colab_link": true
    },
    "kernelspec": {
      "name": "python3",
      "display_name": "Python 3"
    },
    "language_info": {
      "name": "python"
    }
  },
  "cells": [
    {
      "cell_type": "markdown",
      "metadata": {
        "id": "view-in-github",
        "colab_type": "text"
      },
      "source": [
        "<a href=\"https://colab.research.google.com/github/upcomingowner2023/Ajju_app_react/blob/main/Python_B2B.ipynb\" target=\"_parent\"><img src=\"https://colab.research.google.com/assets/colab-badge.svg\" alt=\"Open In Colab\"/></a>"
      ]
    },
    {
      "cell_type": "code",
      "execution_count": 37,
      "metadata": {
        "colab": {
          "base_uri": "https://localhost:8080/"
        },
        "id": "DpVdHx9UpXxa",
        "outputId": "b9b26ef7-7e05-474c-c5ad-2c470b8c76db"
      },
      "outputs": [
        {
          "output_type": "stream",
          "name": "stdout",
          "text": [
            "Investing in Mutual Fund A for a total of 10000 rupees\n",
            "Investing in Mutual Fund B for a total of 20000 rupees\n",
            "Investing in Savings Account for a total of 5000 rupees\n",
            "Investing in Fixed Deposit for a total of 10000 rupees\n",
            "Total investment: 45000\n",
            "Annual interest rate: 0.36\n",
            "Earnings per year: 16200.0\n",
            "Earnings over time: 48600.0\n",
            "Total earnings after investing after 3 years: 93600.0\n",
            "Results saved to investment_results.csv\n"
          ]
        }
      ],
      "source": [
        "import csv\n",
        "\n",
        "def knapsack(investments, max_investment):\n",
        "    if not investments:\n",
        "        return []\n",
        "    # Get the last investment in the list\n",
        "    investment = investments[-1]\n",
        "    # If the investment in the last item is more than the maximum investment, we can't include it in the portfolio\n",
        "    if investment[1] > max_investment:\n",
        "        return knapsack(investments[:-1], max_investment)\n",
        "    # Otherwise, we have two options: include the investment in the portfolio or not include it\n",
        "    include_investment = knapsack(investments[:-1], max_investment - investment[1]) + [investment]\n",
        "    exclude_investment = knapsack(investments[:-1], max_investment)\n",
        "    if sum(investment[1] for investment in include_investment) <= max_investment:\n",
        "        return include_investment\n",
        "    return exclude_investment\n",
        "\n",
        "# Test the knapsack function\n",
        "investments = [[\"Mutual Fund A\", 10000, 0.10], [\"Mutual Fund B\", 20000, 0.15], [\"Savings Account\", 5000, 0.05], [\"Fixed Deposit\", 10000, 0.06]]\n",
        "max_investment = 45000\n",
        "selected_investments = knapsack(investments, max_investment)\n",
        "for investment in selected_investments:\n",
        "    print(\"Investing in\", investment[0], \"for a total of\", investment[1], \"rupees\")\n",
        "\n",
        "# Calculate the total investment and annual interest rate\n",
        "total_investment = sum(investment[1] for investment in selected_investments)\n",
        "annual_interest_rate = sum(investment[2] for investment in selected_investments)\n",
        "\n",
        "# Calculate the earnings per year\n",
        "earnings_per_year = total_investment * annual_interest_rate\n",
        "print(\"Total investment:\", total_investment)\n",
        "print(\"Annual interest rate:\", annual_interest_rate)\n",
        "print(\"Earnings per year:\", earnings_per_year)\n",
        "\n",
        "num_years= 3\n",
        "earnings_over_time = earnings_per_year * num_years\n",
        "print(\"Earnings over time:\", earnings_over_time)\n",
        "\n",
        "tot_earnings_after_investing=earnings_over_time+max_investment\n",
        "print(\"Total earnings after investing after 3 years:\",tot_earnings_after_investing )\n",
        "\n",
        "investment_data = [[investment[0], investment[1], investment[2], earnings_per_year, earnings_over_time, tot_earnings_after_investing] for investment in selected_investments]\n",
        "\n",
        "with open('investment_results.csv', 'w', newline='') as csvfile:\n",
        "  writer = csv.writer(csvfile)\n",
        "  writer.writerows(investment_data)\n",
        "\n",
        "print(\"Results saved to investment_results.csv\")"
      ]
    },
    {
      "cell_type": "code",
      "source": [
        "import pandas as pd \n",
        "import csv \n",
        "\n",
        "data = pd.read_csv(\"investment_results.csv\")\n",
        "\n",
        "data.head(4)"
      ],
      "metadata": {
        "colab": {
          "base_uri": "https://localhost:8080/",
          "height": 172
        },
        "id": "Bw_FpXEq0Pgz",
        "outputId": "e6a9777a-cef5-4db7-d267-6ff1c02e47a0"
      },
      "execution_count": 1,
      "outputs": [
        {
          "output_type": "execute_result",
          "data": {
            "text/plain": [
              "     Mutual Fund A  10000   0.1  16200.0  48600.0  93600.0\n",
              "0    Mutual Fund B  20000  0.15  16200.0  48600.0  93600.0\n",
              "1  Savings Account   5000  0.05  16200.0  48600.0  93600.0\n",
              "2    Fixed Deposit  10000  0.06  16200.0  48600.0  93600.0"
            ],
            "text/html": [
              "\n",
              "  <div id=\"df-79973941-0549-4494-ae95-e95b8ff2a438\">\n",
              "    <div class=\"colab-df-container\">\n",
              "      <div>\n",
              "<style scoped>\n",
              "    .dataframe tbody tr th:only-of-type {\n",
              "        vertical-align: middle;\n",
              "    }\n",
              "\n",
              "    .dataframe tbody tr th {\n",
              "        vertical-align: top;\n",
              "    }\n",
              "\n",
              "    .dataframe thead th {\n",
              "        text-align: right;\n",
              "    }\n",
              "</style>\n",
              "<table border=\"1\" class=\"dataframe\">\n",
              "  <thead>\n",
              "    <tr style=\"text-align: right;\">\n",
              "      <th></th>\n",
              "      <th>Mutual Fund A</th>\n",
              "      <th>10000</th>\n",
              "      <th>0.1</th>\n",
              "      <th>16200.0</th>\n",
              "      <th>48600.0</th>\n",
              "      <th>93600.0</th>\n",
              "    </tr>\n",
              "  </thead>\n",
              "  <tbody>\n",
              "    <tr>\n",
              "      <th>0</th>\n",
              "      <td>Mutual Fund B</td>\n",
              "      <td>20000</td>\n",
              "      <td>0.15</td>\n",
              "      <td>16200.0</td>\n",
              "      <td>48600.0</td>\n",
              "      <td>93600.0</td>\n",
              "    </tr>\n",
              "    <tr>\n",
              "      <th>1</th>\n",
              "      <td>Savings Account</td>\n",
              "      <td>5000</td>\n",
              "      <td>0.05</td>\n",
              "      <td>16200.0</td>\n",
              "      <td>48600.0</td>\n",
              "      <td>93600.0</td>\n",
              "    </tr>\n",
              "    <tr>\n",
              "      <th>2</th>\n",
              "      <td>Fixed Deposit</td>\n",
              "      <td>10000</td>\n",
              "      <td>0.06</td>\n",
              "      <td>16200.0</td>\n",
              "      <td>48600.0</td>\n",
              "      <td>93600.0</td>\n",
              "    </tr>\n",
              "  </tbody>\n",
              "</table>\n",
              "</div>\n",
              "      <button class=\"colab-df-convert\" onclick=\"convertToInteractive('df-79973941-0549-4494-ae95-e95b8ff2a438')\"\n",
              "              title=\"Convert this dataframe to an interactive table.\"\n",
              "              style=\"display:none;\">\n",
              "        \n",
              "  <svg xmlns=\"http://www.w3.org/2000/svg\" height=\"24px\"viewBox=\"0 0 24 24\"\n",
              "       width=\"24px\">\n",
              "    <path d=\"M0 0h24v24H0V0z\" fill=\"none\"/>\n",
              "    <path d=\"M18.56 5.44l.94 2.06.94-2.06 2.06-.94-2.06-.94-.94-2.06-.94 2.06-2.06.94zm-11 1L8.5 8.5l.94-2.06 2.06-.94-2.06-.94L8.5 2.5l-.94 2.06-2.06.94zm10 10l.94 2.06.94-2.06 2.06-.94-2.06-.94-.94-2.06-.94 2.06-2.06.94z\"/><path d=\"M17.41 7.96l-1.37-1.37c-.4-.4-.92-.59-1.43-.59-.52 0-1.04.2-1.43.59L10.3 9.45l-7.72 7.72c-.78.78-.78 2.05 0 2.83L4 21.41c.39.39.9.59 1.41.59.51 0 1.02-.2 1.41-.59l7.78-7.78 2.81-2.81c.8-.78.8-2.07 0-2.86zM5.41 20L4 18.59l7.72-7.72 1.47 1.35L5.41 20z\"/>\n",
              "  </svg>\n",
              "      </button>\n",
              "      \n",
              "  <style>\n",
              "    .colab-df-container {\n",
              "      display:flex;\n",
              "      flex-wrap:wrap;\n",
              "      gap: 12px;\n",
              "    }\n",
              "\n",
              "    .colab-df-convert {\n",
              "      background-color: #E8F0FE;\n",
              "      border: none;\n",
              "      border-radius: 50%;\n",
              "      cursor: pointer;\n",
              "      display: none;\n",
              "      fill: #1967D2;\n",
              "      height: 32px;\n",
              "      padding: 0 0 0 0;\n",
              "      width: 32px;\n",
              "    }\n",
              "\n",
              "    .colab-df-convert:hover {\n",
              "      background-color: #E2EBFA;\n",
              "      box-shadow: 0px 1px 2px rgba(60, 64, 67, 0.3), 0px 1px 3px 1px rgba(60, 64, 67, 0.15);\n",
              "      fill: #174EA6;\n",
              "    }\n",
              "\n",
              "    [theme=dark] .colab-df-convert {\n",
              "      background-color: #3B4455;\n",
              "      fill: #D2E3FC;\n",
              "    }\n",
              "\n",
              "    [theme=dark] .colab-df-convert:hover {\n",
              "      background-color: #434B5C;\n",
              "      box-shadow: 0px 1px 3px 1px rgba(0, 0, 0, 0.15);\n",
              "      filter: drop-shadow(0px 1px 2px rgba(0, 0, 0, 0.3));\n",
              "      fill: #FFFFFF;\n",
              "    }\n",
              "  </style>\n",
              "\n",
              "      <script>\n",
              "        const buttonEl =\n",
              "          document.querySelector('#df-79973941-0549-4494-ae95-e95b8ff2a438 button.colab-df-convert');\n",
              "        buttonEl.style.display =\n",
              "          google.colab.kernel.accessAllowed ? 'block' : 'none';\n",
              "\n",
              "        async function convertToInteractive(key) {\n",
              "          const element = document.querySelector('#df-79973941-0549-4494-ae95-e95b8ff2a438');\n",
              "          const dataTable =\n",
              "            await google.colab.kernel.invokeFunction('convertToInteractive',\n",
              "                                                     [key], {});\n",
              "          if (!dataTable) return;\n",
              "\n",
              "          const docLinkHtml = 'Like what you see? Visit the ' +\n",
              "            '<a target=\"_blank\" href=https://colab.research.google.com/notebooks/data_table.ipynb>data table notebook</a>'\n",
              "            + ' to learn more about interactive tables.';\n",
              "          element.innerHTML = '';\n",
              "          dataTable['output_type'] = 'display_data';\n",
              "          await google.colab.output.renderOutput(dataTable, element);\n",
              "          const docLink = document.createElement('div');\n",
              "          docLink.innerHTML = docLinkHtml;\n",
              "          element.appendChild(docLink);\n",
              "        }\n",
              "      </script>\n",
              "    </div>\n",
              "  </div>\n",
              "  "
            ]
          },
          "metadata": {},
          "execution_count": 1
        }
      ]
    },
    {
      "cell_type": "code",
      "source": [
        "from google.colab import files\n",
        "\n",
        "# Download the file\n",
        "files.download('investment_results.csv')"
      ],
      "metadata": {
        "colab": {
          "base_uri": "https://localhost:8080/",
          "height": 17
        },
        "id": "eajH2ToV8fTP",
        "outputId": "21fdc3f0-660c-45f3-bb45-413410dcb2c2"
      },
      "execution_count": 41,
      "outputs": [
        {
          "output_type": "display_data",
          "data": {
            "text/plain": [
              "<IPython.core.display.Javascript object>"
            ],
            "application/javascript": [
              "\n",
              "    async function download(id, filename, size) {\n",
              "      if (!google.colab.kernel.accessAllowed) {\n",
              "        return;\n",
              "      }\n",
              "      const div = document.createElement('div');\n",
              "      const label = document.createElement('label');\n",
              "      label.textContent = `Downloading \"${filename}\": `;\n",
              "      div.appendChild(label);\n",
              "      const progress = document.createElement('progress');\n",
              "      progress.max = size;\n",
              "      div.appendChild(progress);\n",
              "      document.body.appendChild(div);\n",
              "\n",
              "      const buffers = [];\n",
              "      let downloaded = 0;\n",
              "\n",
              "      const channel = await google.colab.kernel.comms.open(id);\n",
              "      // Send a message to notify the kernel that we're ready.\n",
              "      channel.send({})\n",
              "\n",
              "      for await (const message of channel.messages) {\n",
              "        // Send a message to notify the kernel that we're ready.\n",
              "        channel.send({})\n",
              "        if (message.buffers) {\n",
              "          for (const buffer of message.buffers) {\n",
              "            buffers.push(buffer);\n",
              "            downloaded += buffer.byteLength;\n",
              "            progress.value = downloaded;\n",
              "          }\n",
              "        }\n",
              "      }\n",
              "      const blob = new Blob(buffers, {type: 'application/binary'});\n",
              "      const a = document.createElement('a');\n",
              "      a.href = window.URL.createObjectURL(blob);\n",
              "      a.download = filename;\n",
              "      div.appendChild(a);\n",
              "      a.click();\n",
              "      div.remove();\n",
              "    }\n",
              "  "
            ]
          },
          "metadata": {}
        },
        {
          "output_type": "display_data",
          "data": {
            "text/plain": [
              "<IPython.core.display.Javascript object>"
            ],
            "application/javascript": [
              "download(\"download_41c4ebec-5be6-4bf5-a3a0-a72c8c02d306\", \"investment_results.csv\", 200)"
            ]
          },
          "metadata": {}
        }
      ]
    },
    {
      "cell_type": "code",
      "source": [
        "ffc n  m   "
      ],
      "metadata": {
        "id": "cRwnfmOw7zaa"
      },
      "execution_count": null,
      "outputs": []
    }
  ]
}